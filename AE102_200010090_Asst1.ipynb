{
 "cells": [
  {
   "cell_type": "markdown",
   "metadata": {},
   "source": [
    "# Answer 1 - (i)"
   ]
  },
  {
   "cell_type": "code",
   "execution_count": 239,
   "metadata": {},
   "outputs": [
    {
     "data": {
      "application/vnd.jupyter.widget-view+json": {
       "model_id": "e0342981c3634f7992f8599e47aed259",
       "version_major": 2,
       "version_minor": 0
      },
      "text/plain": [
       "interactive(children=(IntSlider(value=50, description='N', min=5, step=5), Output()), _dom_classes=('widget-in…"
      ]
     },
     "metadata": {},
     "output_type": "display_data"
    },
    {
     "data": {
      "text/plain": [
       "[<matplotlib.lines.Line2D at 0x237df1f1ee0>]"
      ]
     },
     "execution_count": 239,
     "metadata": {},
     "output_type": "execute_result"
    },
    {
     "data": {
      "image/png": "[encoded data removed]",
      "text/plain": [
       "<Figure size 432x288 with 1 Axes>"
      ]
     },
     "metadata": {
      "needs_background": "light"
     },
     "output_type": "display_data"
    }
   ],
   "source": [
    "\n",
    "from matplotlib import pyplot as plt  # Importing libraries\n",
    "\n",
    "import numpy as np\n",
    "\n",
    "from ipywidgets import interact\n",
    "\n",
    "from scipy.stats import *\n",
    "\n",
    "def func1(N):\n",
    "    t_mean, t_std = 0.5, 0.288\n",
    "    z = []\n",
    "    M = 1000\n",
    "    for j in range(M):\n",
    "        rv_m = []\n",
    "        for i in range(N): \n",
    "            \n",
    "            x = np.random.random(100)\n",
    "            \n",
    "            rv_m.append(np.mean(x))\n",
    "            \n",
    "        mean = np.mean(rv_m)\n",
    "        \n",
    "        z.append(np.sqrt(N)*(mean - t_mean)/t_std)\n",
    "        \n",
    "       \n",
    "    plt.hist(z, bins = 20, density = True)\n",
    "    \n",
    "    \n",
    "interact(func1, N=(5, 100, 5))\n",
    "X = norm(loc=0, scale=1) \n",
    "x = np.linspace(-4,4,100)\n",
    "plt.plot(x,X.pdf(x))"
   ]
  },
  {
   "cell_type": "markdown",
   "metadata": {},
   "source": [
    "Width of the distribution will deacreases as z increases\n"
   ]
  },
  {
   "cell_type": "markdown",
   "metadata": {},
   "source": [
    "# Answer 1 - (ii)"
   ]
  },
  {
   "cell_type": "code",
   "execution_count": 240,
   "metadata": {},
   "outputs": [
    {
     "data": {
      "application/vnd.jupyter.widget-view+json": {
       "model_id": "4152d8e8f81d499489923aa9954b0312",
       "version_major": 2,
       "version_minor": 0
      },
      "text/plain": [
       "interactive(children=(FloatSlider(value=0.5, description='p', max=0.9, min=0.1), Output()), _dom_classes=('wid…"
      ]
     },
     "metadata": {},
     "output_type": "display_data"
    },
    {
     "data": {
      "text/plain": [
       "[<matplotlib.lines.Line2D at 0x237df2f6040>]"
      ]
     },
     "execution_count": 240,
     "metadata": {},
     "output_type": "execute_result"
    },
    {
     "data": {
      "image/png": "[encoded data removed]",
      "text/plain": [
       "<Figure size 432x288 with 1 Axes>"
      ]
     },
     "metadata": {
      "needs_background": "light"
     },
     "output_type": "display_data"
    }
   ],
   "source": [
    "%matplotlib inline \n",
    "\n",
    "from scipy.stats import *\n",
    "\n",
    "from ipywidgets import interact\n",
    "\n",
    "import numpy as np\n",
    "\n",
    "def funcf2(p):\n",
    "    \n",
    "    n = 100 \n",
    "    t_mean_2, t_std_2 = n*p, np.sqrt(n*p*(1-p))\n",
    "    \n",
    "    M, N = 1000, 5\n",
    "    z_2 = []\n",
    "    for j in range(M):\n",
    "         \n",
    "        rv_m2 = []\n",
    "        \n",
    "        for i in range(N):\n",
    "            \n",
    "            rv_b = binom.rvs(n,p, size = 200)\n",
    "            \n",
    "            rv_m2.append(np.mean(rv_b))\n",
    "            \n",
    "        mean2 = np.mean(rv_m2)\n",
    "        z_2.append(np.sqrt(N)*(mean2 - t_mean_2)/t_std_2)\n",
    "        \n",
    "    plt.hist(z_2, bins = 20, density = True )\n",
    "\n",
    "interact(funcf2, p = (0.1, 0.9, 0.1))\n",
    "        \n",
    "x_2 = norm(loc = 0, scale = 1)  \n",
    "x = np.linspace(-4,4,100)\n",
    "plt.plot(x,x_2.pdf(x))"
   ]
  },
  {
   "cell_type": "markdown",
   "metadata": {},
   "source": [
    "# Answer 1 - (iii)"
   ]
  },
  {
   "cell_type": "code",
   "execution_count": 1,
   "metadata": {},
   "outputs": [],
   "source": [
    "import numpy as np\n",
    "\n",
    "import matplotlib.pyplot as plt\n",
    "\n",
    "from scipy.stats import norm\n",
    "M = 1000\n"
   ]
  },
  {
   "cell_type": "markdown",
   "metadata": {},
   "source": [
    "# Answer 2 - (i)"
   ]
  },
  {
   "cell_type": "code",
   "execution_count": 241,
   "metadata": {},
   "outputs": [
    {
     "name": "stdout",
     "output_type": "stream",
     "text": [
      "Probablity of appearing the sum is a prime number is\n",
      "0.3125\n"
     ]
    }
   ],
   "source": [
    "# Dodecahedron - 12 faces \n",
    "# Icosahedron - 20 faces\n",
    "# Therefore the total number of outcomes = 12*20 = 240\n",
    "# Total no of favourable outcomes = 1 + 2 + 4 + 6 + 10 + 12 + 12 +12 + 10 + 4 + 2 = 75\n",
    "# Probablity of appearing the sum is a prime number = 75/240\n",
    "print(\"Probablity of appearing the sum is a prime number is\")\n",
    "print(75/240)"
   ]
  },
  {
   "cell_type": "markdown",
   "metadata": {},
   "source": [
    "# Answer 2 - (ii)"
   ]
  },
  {
   "cell_type": "code",
   "execution_count": 242,
   "metadata": {},
   "outputs": [
    {
     "name": "stdout",
     "output_type": "stream",
     "text": [
      "0.284\n",
      "0.3004\n"
     ]
    }
   ],
   "source": [
    "import matplotlib.pyplot as plt\n",
    "\n",
    "\n",
    "def is_prime(num):\n",
    "    if num > 1:\n",
    "        for i in range(2,num):\n",
    "            if (num % i) == 0:\n",
    "                return False\n",
    "        else:\n",
    "            return True\n",
    "           \n",
    "            \n",
    "def throw(nt = 1000):\n",
    "    \n",
    "    iso = np.random.randint(low = 2, high = 13, size = nt)\n",
    "    \n",
    "    deca = np.random.randint(low = 1, high = 21, size = nt)\n",
    "    \n",
    "    fav = 0\n",
    "    net = 0\n",
    "    \n",
    "    for i in range(nt): \n",
    "        \n",
    "        if is_prime(iso[i] + deca[i]) == True:\n",
    "            \n",
    "            fav = fav + 1\n",
    "        net = net + 1 \n",
    "            \n",
    "        \n",
    "    return(fav/net)\n",
    "print(throw(1000))\n",
    "print(throw(10000))\n",
    "    \n"
   ]
  },
  {
   "cell_type": "markdown",
   "metadata": {},
   "source": [
    "# Answer 2 - (iii)"
   ]
  },
  {
   "cell_type": "code",
   "execution_count": 244,
   "metadata": {},
   "outputs": [
    {
     "data": {
      "text/plain": [
       "(array([ 1.92926045,  5.14469453,  4.50160772, 14.14790997, 21.86495177,\n",
       "        50.1607717 , 47.58842444, 77.17041801, 95.81993569, 80.38585209,\n",
       "        70.09646302, 66.23794212, 44.37299035, 27.0096463 , 22.50803859,\n",
       "         8.36012862,  3.8585209 ,  0.64308682,  0.64308682,  0.64308682]),\n",
       " array([0.2901  , 0.291655, 0.29321 , 0.294765, 0.29632 , 0.297875,\n",
       "        0.29943 , 0.300985, 0.30254 , 0.304095, 0.30565 , 0.307205,\n",
       "        0.30876 , 0.310315, 0.31187 , 0.313425, 0.31498 , 0.316535,\n",
       "        0.31809 , 0.319645, 0.3212  ]),\n",
       " <BarContainer object of 20 artists>)"
      ]
     },
     "execution_count": 244,
     "metadata": {},
     "output_type": "execute_result"
    },
    {
     "data": {
      "image/png": "[encoded data removed]",
      "text/plain": [
       "<Figure size 432x288 with 1 Axes>"
      ]
     },
     "metadata": {
      "needs_background": "light"
     },
     "output_type": "display_data"
    }
   ],
   "source": [
    "ne = 1000\n",
    "z = []\n",
    "for i in range(ne):\n",
    "    \n",
    "    z.append(throw(10000)) \n",
    "    \n",
    "plt.hist(z, bins = 20, density = True)"
   ]
  },
  {
   "cell_type": "markdown",
   "metadata": {},
   "source": [
    "# Answer 2 - (iv)\n"
   ]
  },
  {
   "cell_type": "code",
   "execution_count": 255,
   "metadata": {},
   "outputs": [
    {
     "data": {
      "text/plain": [
       "(0.31317999999999996, 0.014401444933117525)"
      ]
     },
     "execution_count": 255,
     "metadata": {},
     "output_type": "execute_result"
    }
   ],
   "source": [
    "t_mean = np.mean(z) \n",
    "\n",
    "t_std = np.std(z, ddof=1) \n",
    "t_mean,t_std"
   ]
  },
  {
   "cell_type": "markdown",
   "metadata": {},
   "source": [
    "# Answer 2 - (v)"
   ]
  },
  {
   "cell_type": "code",
   "execution_count": 248,
   "metadata": {},
   "outputs": [
    {
     "data": {
      "text/plain": [
       "(array([ 56.02240896,   0.        ,   0.        ,  28.01120448,\n",
       "         56.02240896,  28.01120448,  84.03361345, 168.06722689,\n",
       "        308.1232493 , 308.1232493 , 252.10084034, 196.07843137,\n",
       "        364.14565826, 280.11204482, 168.06722689, 140.05602241,\n",
       "         84.03361345, 140.05602241,  56.02240896,  84.03361345]),\n",
       " array([0.30865 , 0.309007, 0.309364, 0.309721, 0.310078, 0.310435,\n",
       "        0.310792, 0.311149, 0.311506, 0.311863, 0.31222 , 0.312577,\n",
       "        0.312934, 0.313291, 0.313648, 0.314005, 0.314362, 0.314719,\n",
       "        0.315076, 0.315433, 0.31579 ]),\n",
       " <BarContainer object of 20 artists>)"
      ]
     },
     "execution_count": 248,
     "metadata": {},
     "output_type": "execute_result"
    },
    {
     "data": {
      "image/png": "[encoded data removed]",
      "text/plain": [
       "<Figure size 432x288 with 1 Axes>"
      ]
     },
     "metadata": {
      "needs_background": "light"
     },
     "output_type": "display_data"
    }
   ],
   "source": [
    "    ns = 100\n",
    "    ne = 100\n",
    "    nt = 1000\n",
    "    sample_mean = []\n",
    "    sample_var = []\n",
    "    \n",
    "    for i in range(ns):\n",
    "        \n",
    "        z = []\n",
    "        s_mean = []\n",
    "        \n",
    "        for i in range(ne):\n",
    "            \n",
    "            iso = np.random.randint(low = 1, high = 13, size = nt)\n",
    "            \n",
    "            deca = np.random.randint(low = 1, high = 21, size = nt)\n",
    "            \n",
    "            fav = 0\n",
    "            net = 0\n",
    "            \n",
    "            for i in range(nt):\n",
    "                \n",
    "                if is_prime(iso[i]+deca[i]) == True:\n",
    "                    \n",
    "                    fav = fav + 1\n",
    "                net = net + 1\n",
    "                \n",
    "            z.append(fav/net)\n",
    "            \n",
    "        p_mean = np.sum(z)/ne\n",
    "        \n",
    "        for k in range(ne):\n",
    "            s_mean.append((z[k] - p_mean)**2)\n",
    "        std = np.sum(s_mean)/(ne - 1)\n",
    "        sample_mean.append(p_mean)\n",
    "        sample_var.append(std)\n",
    "     \n",
    "        \n",
    "plt.hist(sample_mean, bins = 20, density = True)\n",
    "\n",
    "\n",
    "        \n"
   ]
  },
  {
   "cell_type": "code",
   "execution_count": 227,
   "metadata": {},
   "outputs": [
    {
     "data": {
      "text/plain": [
       "(array([ 5930.52746501,  8895.79119751,  5930.52746501,  1482.63186625,\n",
       "        13343.68679626, 22239.47799377, 10378.42306376, 16308.95052877,\n",
       "        10378.42306376,  8895.79119751, 10378.42306376,  5930.52746501,\n",
       "        10378.42306376,  1482.63186625,  2965.2637325 ,  5930.52746501,\n",
       "            0.        ,     0.        ,  1482.63186625,  5930.52746501]),\n",
       " array([0.00016365, 0.0001704 , 0.00017714, 0.00018389, 0.00019063,\n",
       "        0.00019738, 0.00020412, 0.00021087, 0.00021761, 0.00022435,\n",
       "        0.0002311 , 0.00023784, 0.00024459, 0.00025133, 0.00025808,\n",
       "        0.00026482, 0.00027157, 0.00027831, 0.00028506, 0.0002918 ,\n",
       "        0.00029855]),\n",
       " <BarContainer object of 20 artists>)"
      ]
     },
     "execution_count": 227,
     "metadata": {},
     "output_type": "execute_result"
    },
    {
     "data": {
      "image/png": "[encoded data removed]",
      "text/plain": [
       "<Figure size 432x288 with 1 Axes>"
      ]
     },
     "metadata": {
      "needs_background": "light"
     },
     "output_type": "display_data"
    }
   ],
   "source": [
    "plt.hist(sample_var, bins = 20, density = True)"
   ]
  },
  {
   "cell_type": "markdown",
   "metadata": {},
   "source": [
    "# Answer 2 - (vi)"
   ]
  },
  {
   "cell_type": "code",
   "execution_count": 254,
   "metadata": {},
   "outputs": [
    {
     "data": {
      "text/plain": [
       "(0.3127724, 0.0013838032206695337)"
      ]
     },
     "execution_count": 254,
     "metadata": {},
     "output_type": "execute_result"
    }
   ],
   "source": [
    "t_mean = np.mean(sample_mean)  # Mean\n",
    "\n",
    "t_std = np.std(sample_mean, ddof=1)  #standered deviation\n",
    "\n",
    "t_mean, t_std"
   ]
  },
  {
   "cell_type": "markdown",
   "metadata": {},
   "source": [
    "# Answer 2 - (vii)"
   ]
  },
  {
   "cell_type": "code",
   "execution_count": 257,
   "metadata": {},
   "outputs": [
    {
     "data": {
      "image/png": "[encoded data removed]",
      "text/plain": [
       "<Figure size 720x360 with 1 Axes>"
      ]
     },
     "metadata": {
      "needs_background": "light"
     },
     "output_type": "display_data"
    }
   ],
   "source": [
    "plt.figure(figsize = (10, 5))\n",
    "plt.hist(sample_mean, density = True, bins = 20);\n",
    "x = np.linspace(0.3, 0.32, 100)\n",
    "plt.plot(x , norm.pdf(x, loc = 0.31317999999999996, scale = 0.014401444933117525));"
   ]
  },
  {
   "cell_type": "code",
   "execution_count": null,
   "metadata": {},
   "outputs": [],
   "source": []
  }
 ],
 "metadata": {
  "kernelspec": {
   "display_name": "Python 3",
   "language": "python",
   "name": "python3"
  },
  "language_info": {
   "codemirror_mode": {
    "name": "ipython",
    "version": 3
   },
   "file_extension": ".py",
   "mimetype": "text/x-python",
   "name": "python",
   "nbconvert_exporter": "python",
   "pygments_lexer": "ipython3",
   "version": "3.8.5"
  }
 },
 "nbformat": 4,
 "nbformat_minor": 4
}
